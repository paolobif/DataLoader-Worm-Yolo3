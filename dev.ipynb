{
 "cells": [
  {
   "cell_type": "code",
   "execution_count": 27,
   "metadata": {},
   "outputs": [],
   "source": [
    "import cv2\n",
    "import csv\n",
    "import os\n",
    "import time\n",
    "import numpy as np\n",
    "import matplotlib.patches as patches\n",
    "from matplotlib import pyplot as plt\n",
    "from collections import defaultdict\n",
    "\n",
    "CSV_PATH = \"/home/paolobif/Lab-Work/ml/pre_arch/worm_data/compiled_11_20/compiled_11_20.csv\"\n",
    "IMAGE_PATH = \"/home/paolobif/Lab-Work/ml/pre_arch/worm_data/compiled_11_20/NN_posttrain_2_im/\"\n"
   ]
  },
  {
   "cell_type": "code",
   "execution_count": 2,
   "metadata": {},
   "outputs": [],
   "source": [
    "def load_csv(PATH):\n",
    "    data = [] #(name, x_uppr, y_uppr, w, h)\n",
    "    with open(PATH, newline=\"\") as csvfile:\n",
    "        csvfile = csv.reader(csvfile)\n",
    "        for file in csvfile:\n",
    "            if file not in data: #checks for duplicates. this step is slow.\n",
    "            # quick fix for no_worm in csv\n",
    "                if file[1] == \"no_worms\":\n",
    "                    pass\n",
    "                else:\n",
    "                    data.append(file)\n",
    "            else:\n",
    "                pass\n",
    "    return(data)\n",
    "\n",
    "\n",
    "csv_ar = load_csv(CSV_PATH)\n",
    "csv_ar = csv_ar[1:]"
   ]
  },
  {
   "cell_type": "code",
   "execution_count": 3,
   "metadata": {},
   "outputs": [],
   "source": [
    "def dictionize_csv(csv_ar):\n",
    "    dict_info = {}\n",
    "    for row in csv_ar:\n",
    "        img_name = row[0]\n",
    "        dict_info.setdefault(img_name, []).append(row[1:])\n",
    "    return dict_info\n",
    "\n",
    "data_ar = dictionize_csv(csv_ar)\n",
    "img_names = os.listdir(IMAGE_PATH)"
   ]
  },
  {
   "cell_type": "code",
   "execution_count": 28,
   "metadata": {},
   "outputs": [],
   "source": [
    "## creates maping generator object\n",
    "class MapGenerator():\n",
    "    \"\"\" Class generates a map grid with the specified cuts\n",
    "        Takes an imput of either image or xy tuple\"\"\"\n",
    "    def __init__(self, xy_shape, cut_size):\n",
    "        self.cut_size = cut_size\n",
    "        if type(xy_shape) != tuple:\n",
    "            print(\"input is an np img array\")\n",
    "            self.xy_shape = (xy_shape.shape[1], xy_shape.shape[0])\n",
    "            #self.x_shape = img_xy.shape[1]\n",
    "        else:\n",
    "            self.xy_shape = xy_shape\n",
    "            #self.y_shape = img_xy[1]\n",
    "        \n",
    "        self.paired_grid = []\n",
    "        \n",
    "        self.map_grid = self.generate_complete_map_grid()\n",
    "    \n",
    "    def generate_complete_map_grid(self):\n",
    "        \"\"\"Four passes of map_grid need to be run in order\n",
    "        to cover entire area. Returns list of points for bounds. \"\"\"\n",
    "        xy_shape = self.xy_shape\n",
    "        cut_size = self.cut_size\n",
    "        \n",
    "        shiftx = int(self.cut_size/2) \n",
    "        shifty = int(self.cut_size/2)\n",
    "        \n",
    "        pass1 = self.map_ar(xy_shape, cut_size, (0,0))\n",
    "        pass2 = self.map_ar(xy_shape, cut_size, (shiftx, shifty))\n",
    "        pass3 = self.map_ar(xy_shape, cut_size, (shiftx, 0))\n",
    "        pass4 = self.map_ar(xy_shape, cut_size, (0, shifty))\n",
    "        self.map_grids = [pass1, pass2, pass3, pass4]\n",
    "        \n",
    "        complete_map_grid = []\n",
    "        for map_grid in self.map_grids:\n",
    "            paired_corners = self.convert_grid_to_cornerxy(map_grid)\n",
    "            self.paired_grid.append(paired_corners)\n",
    "            complete_map_grid.extend(paired_corners)\n",
    "            \n",
    "        return complete_map_grid\n",
    "        \n",
    "        # shiftxy can be modified when calling map_ar to create different arrangements of rectangles\n",
    "        \n",
    "    @staticmethod\n",
    "    def map_ar(xy_shape, cut_size, shiftxy=(0,0)):\n",
    "        \"\"\"creates grid map for slicing - adjust shift to cover needed areas -current method\n",
    "        is shift=(cut_size/2, cut_size/2) and (0, cut_size/2) and (cut_size, 0/2).\n",
    "        IMPORTANT - cut_size must be div by 2\"\"\"\n",
    "        x_size = xy_shape[0]\n",
    "        y_size = xy_shape[1]    \n",
    "\n",
    "        x_shift = shiftxy[0]\n",
    "        y_shift = shiftxy[1]\n",
    "\n",
    "        map_ar = []\n",
    "\n",
    "        # declare ranges\n",
    "        x_start_range = 0 + x_shift\n",
    "        y_start_range = 0 + y_shift\n",
    "\n",
    "        # determines the range of each cut. \n",
    "        second_pass_shift = (int(cut_size/2), int(cut_size/2)) \n",
    "        x_max_range = x_size + cut_size if shiftxy == (0,0) or shiftxy == second_pass_shift else x_size\n",
    "        y_max_range = y_size + cut_size if shiftxy == (0,0) or shiftxy == second_pass_shift else y_size\n",
    "\n",
    "        for x in range(0+x_shift, x_max_range, cut_size):\n",
    "            for y in range(0+y_shift, y_max_range, cut_size):\n",
    "                map_ar.append([x,y])\n",
    "\n",
    "        return map_ar\n",
    "    \n",
    "    @staticmethod\n",
    "    def convert_grid_to_cornerxy(map_grid):\n",
    "        \"\"\" Takes the series of points and then returns point (x1,y1), (x2,y2) for each rectangle\"\"\"\n",
    "        only_xs = [n[0] for n in map_grid]\n",
    "        y_slice_count = only_xs.count(only_xs[0])\n",
    "               \n",
    "        paired_corners = []\n",
    "        ## pair index is the matching corner to point\n",
    "        for i, point in enumerate(map_grid):\n",
    "            pair_index = i+y_slice_count+1\n",
    "            \n",
    "            # if the pair index is not the last of each chunck or the last group do ...\n",
    "            if (i+1) % y_slice_count != 0 and pair_index <= len(map_grid):\n",
    "                #print(i, pair_index, f\"division:{(i+1)%y_slice_count}\")\n",
    "                pair = map_grid[pair_index]\n",
    "                paired_corners.append([tuple(point), tuple(pair)])\n",
    "            else:\n",
    "                pass\n",
    "            \n",
    "        return(paired_corners)\n",
    "        "
   ]
  },
  {
   "cell_type": "code",
   "execution_count": 45,
   "metadata": {},
   "outputs": [],
   "source": [
    "class CutImage(MapGenerator):\n",
    "    \"\"\"Processes Single Image - cuts it according to cut_size, set \n",
    "    training True and itll correctly allocate bounding boxes from bb_list: [x_corner,y_corner,w,h]\"\"\"\n",
    "    def __init__(self, img, cut_size, Training=False, bb_list=None):\n",
    "        \"\"\"important property is map_grid from MapGenreator - maps where to cut image\"\"\"\n",
    "        MapGenerator.__init__(self, img, cut_size)\n",
    "        self.img = img\n",
    "        self.Training = Training\n",
    "        self.bb_list = bb_list\n",
    "    \n",
    "    def cut_image(self):\n",
    "        # cuts image according to map_grid and returns dict with img and keys\n",
    "        img_cuts = {}\n",
    "        for xy_pair in self.map_grid:\n",
    "            x1y1, x2y2 = xy_pair\n",
    "            x1, y1 = x1y1\n",
    "            x2, y2 = x2y2\n",
    "            \n",
    "            img_crop = self.img[y1:y2, x1:x2]\n",
    "            \n",
    "            # add padding if the image is not sized correctly\n",
    "            if img_crop.shape != (self.cut_size, self.cut_size):\n",
    "                img_crop = self.add_padding_to_square_img(img_crop, self.cut_size)\n",
    "            \n",
    "            img_cuts.setdefault(\"keys\", []).append(xy_pair)\n",
    "            img_cuts.setdefault(\"imgs\", []).append(img_crop)\n",
    "        \n",
    "        return img_cuts\n",
    "            \n",
    "    @staticmethod\n",
    "    def add_padding_to_square_img(img, cut_size):\n",
    "        y_size, x_size = img.shape[:2]\n",
    "        y_pad_amount = cut_size - y_size\n",
    "        x_pad_amount = cut_size - x_size\n",
    "\n",
    "        pad_img = np.pad(img, [(0,y_pad_amount), (0,x_pad_amount), (0,0)])\n",
    "        \n",
    "        return pad_img\n",
    "    "
   ]
  },
  {
   "cell_type": "code",
   "execution_count": 46,
   "metadata": {},
   "outputs": [
    {
     "name": "stdout",
     "output_type": "stream",
     "text": [
      "input is an np img array\n",
      "Elapsed Time: 0.0003403989999997137\n"
     ]
    }
   ],
   "source": [
    "CUT_SIZE = 416\n",
    "\n",
    "img1 = cv2.imread(IMAGE_PATH+img_names[1])\n",
    "bb1_list = data_ar[img_names[1]]\n",
    "\n",
    "tic = time.process_time()\n",
    "\n",
    "a = CutImage(img1, CUT_SIZE, Training=True, bb_list=bb1_list)\n",
    "\n",
    "toc = time.process_time()\n",
    "\n",
    "print(f\"Elapsed Time: {toc-tic}\")\n"
   ]
  },
  {
   "cell_type": "code",
   "execution_count": 54,
   "metadata": {},
   "outputs": [
    {
     "data": {
      "text/plain": [
       "<matplotlib.image.AxesImage at 0x7f4dea4315b0>"
      ]
     },
     "execution_count": 54,
     "metadata": {},
     "output_type": "execute_result"
    },
    {
     "data": {
      "image/png": "[encoded data removed]",
      "text/plain": [
       "<Figure size 432x288 with 1 Axes>"
      ]
     },
     "metadata": {
      "needs_background": "light"
     },
     "output_type": "display_data"
    }
   ],
   "source": [
    "test = a.cut_image()\n",
    "im = test['imgs'][11]\n",
    "plt.imshow(im)"
   ]
  },
  {
   "cell_type": "code",
   "execution_count": null,
   "metadata": {},
   "outputs": [],
   "source": []
  },
  {
   "cell_type": "code",
   "execution_count": null,
   "metadata": {},
   "outputs": [],
   "source": []
  }
 ],
 "metadata": {
  "kernelspec": {
   "display_name": "Python 3",
   "language": "python",
   "name": "python3"
  },
  "language_info": {
   "codemirror_mode": {
    "name": "ipython",
    "version": 3
   },
   "file_extension": ".py",
   "mimetype": "text/x-python",
   "name": "python",
   "nbconvert_exporter": "python",
   "pygments_lexer": "ipython3",
   "version": "3.8.5"
  }
 },
 "nbformat": 4,
 "nbformat_minor": 4
}
